{
  "nbformat": 4,
  "nbformat_minor": 0,
  "metadata": {
    "colab": {
      "name": "credit_card_fraud_detection.ipynb",
      "provenance": [],
      "collapsed_sections": [
        "hJYQ4yrHqmPc"
      ],
      "mount_file_id": "1PcjzM7rnUbbJpmXKtTsMbMoV00CWusNT",
      "authorship_tag": "ABX9TyOw3J3B+36TiIONXS8h6j93",
      "include_colab_link": true
    },
    "kernelspec": {
      "name": "python3",
      "display_name": "Python 3"
    },
    "language_info": {
      "name": "python"
    }
  },
  "cells": [
    {
      "cell_type": "markdown",
      "metadata": {
        "id": "view-in-github",
        "colab_type": "text"
      },
      "source": [
        "<a href=\"https://colab.research.google.com/github/chloe-dg/credit_card_fraud_detection/blob/main/credit_card_fraud_detection.ipynb\" target=\"_parent\"><img src=\"https://colab.research.google.com/assets/colab-badge.svg\" alt=\"Open In Colab\"/></a>"
      ]
    },
    {
      "cell_type": "markdown",
      "source": [
        "#Part 1: Import packages, load dataset, EDA and Data Preprocessing"
      ],
      "metadata": {
        "id": "EvQ_cVYXjyYZ"
      }
    },
    {
      "cell_type": "code",
      "execution_count": 1,
      "metadata": {
        "id": "UlY04W9ujr3G"
      },
      "outputs": [],
      "source": [
        "import numpy as np \n",
        "import pandas as pd \n",
        "import tensorflow as tf\n",
        "import matplotlib.pyplot as plt\n",
        "import seaborn as sns\n",
        "from sklearn.manifold import TSNE\n",
        "from sklearn.decomposition import PCA, TruncatedSVD\n",
        "import matplotlib.patches as mpatches\n",
        "import time\n",
        "\n",
        "# Classifier Libraries\n",
        "from sklearn.linear_model import LogisticRegression\n",
        "from sklearn.svm import SVC\n",
        "from sklearn.neighbors import KNeighborsClassifier\n",
        "from sklearn.tree import DecisionTreeClassifier\n",
        "from sklearn.ensemble import RandomForestClassifier\n",
        "import collections\n",
        "\n",
        "\n",
        "# Other Libraries\n",
        "from sklearn.model_selection import train_test_split\n",
        "from sklearn.pipeline import make_pipeline\n",
        "from imblearn.pipeline import make_pipeline as imbalanced_make_pipeline\n",
        "from imblearn.over_sampling import SMOTE\n",
        "from imblearn.under_sampling import NearMiss\n",
        "from imblearn.metrics import classification_report_imbalanced\n",
        "from sklearn.metrics import precision_score, recall_score, f1_score, roc_auc_score, accuracy_score, classification_report\n",
        "from sklearn.model_selection import KFold, cross_val_score\n",
        "from sklearn.metrics import confusion_matrix,precision_recall_curve,auc,roc_auc_score,roc_curve,recall_score,classification_report \n",
        "from sklearn.preprocessing import StandardScaler, RobustScaler\n",
        "from sklearn.ensemble import IsolationForest\n",
        "from sklearn.neighbors import LocalOutlierFactor\n",
        "from sklearn.svm import OneClassSVM\n",
        "from collections import Counter\n",
        "from sklearn.model_selection import KFold, StratifiedKFold\n",
        "import warnings\n",
        "warnings.filterwarnings(\"ignore\")\n",
        "%matplotlib inline"
      ]
    },
    {
      "cell_type": "code",
      "source": [
        "from google.colab import drive\n",
        "drive.mount('/content/gdrive')"
      ],
      "metadata": {
        "colab": {
          "base_uri": "https://localhost:8080/"
        },
        "id": "Rc4yTTmRj5Mf",
        "outputId": "8611eb9c-2f2e-4e74-c35e-6edb8e8d7ff7"
      },
      "execution_count": 2,
      "outputs": [
        {
          "output_type": "stream",
          "name": "stdout",
          "text": [
            "Mounted at /content/gdrive\n"
          ]
        }
      ]
    },
    {
      "cell_type": "code",
      "source": [
        "credit = pd.read_csv('/content/drive/MyDrive/Colab Notebooks/database/credit_card_fraud_detection/creditcard.csv')"
      ],
      "metadata": {
        "id": "qHighthXkSlK"
      },
      "execution_count": 4,
      "outputs": []
    },
    {
      "cell_type": "code",
      "source": [
        "data = credit.copy()"
      ],
      "metadata": {
        "id": "VmkjHoyXkU6M"
      },
      "execution_count": 5,
      "outputs": []
    },
    {
      "cell_type": "markdown",
      "source": [
        "## Exploratory Data Analysis & Data Preprocessing"
      ],
      "metadata": {
        "id": "ejKnVCT0l2oq"
      }
    },
    {
      "cell_type": "markdown",
      "source": [
        "## 1. Explore the columns and classes"
      ],
      "metadata": {
        "id": "yn15sseemmr8"
      }
    },
    {
      "cell_type": "code",
      "source": [
        "# Explore columns in the dataset\n",
        "data.columns"
      ],
      "metadata": {
        "colab": {
          "base_uri": "https://localhost:8080/"
        },
        "id": "Vr7aP5CulUcy",
        "outputId": "915948a3-b5d8-4232-e801-8fdd52359bd3"
      },
      "execution_count": 6,
      "outputs": [
        {
          "output_type": "execute_result",
          "data": {
            "text/plain": [
              "Index(['Time', 'V1', 'V2', 'V3', 'V4', 'V5', 'V6', 'V7', 'V8', 'V9', 'V10',\n",
              "       'V11', 'V12', 'V13', 'V14', 'V15', 'V16', 'V17', 'V18', 'V19', 'V20',\n",
              "       'V21', 'V22', 'V23', 'V24', 'V25', 'V26', 'V27', 'V28', 'Amount',\n",
              "       'Class'],\n",
              "      dtype='object')"
            ]
          },
          "metadata": {},
          "execution_count": 6
        }
      ]
    },
    {
      "cell_type": "code",
      "source": [
        "data.info()"
      ],
      "metadata": {
        "colab": {
          "base_uri": "https://localhost:8080/"
        },
        "id": "iqRgOkfBpXL0",
        "outputId": "8ce1d6f0-92a6-4868-c5d9-b533add90e88"
      },
      "execution_count": 7,
      "outputs": [
        {
          "output_type": "stream",
          "name": "stdout",
          "text": [
            "<class 'pandas.core.frame.DataFrame'>\n",
            "RangeIndex: 284807 entries, 0 to 284806\n",
            "Data columns (total 31 columns):\n",
            " #   Column  Non-Null Count   Dtype  \n",
            "---  ------  --------------   -----  \n",
            " 0   Time    284807 non-null  float64\n",
            " 1   V1      284807 non-null  float64\n",
            " 2   V2      284807 non-null  float64\n",
            " 3   V3      284807 non-null  float64\n",
            " 4   V4      284807 non-null  float64\n",
            " 5   V5      284807 non-null  float64\n",
            " 6   V6      284807 non-null  float64\n",
            " 7   V7      284807 non-null  float64\n",
            " 8   V8      284807 non-null  float64\n",
            " 9   V9      284807 non-null  float64\n",
            " 10  V10     284807 non-null  float64\n",
            " 11  V11     284807 non-null  float64\n",
            " 12  V12     284807 non-null  float64\n",
            " 13  V13     284807 non-null  float64\n",
            " 14  V14     284807 non-null  float64\n",
            " 15  V15     284807 non-null  float64\n",
            " 16  V16     284807 non-null  float64\n",
            " 17  V17     284807 non-null  float64\n",
            " 18  V18     284807 non-null  float64\n",
            " 19  V19     284807 non-null  float64\n",
            " 20  V20     284807 non-null  float64\n",
            " 21  V21     284807 non-null  float64\n",
            " 22  V22     284807 non-null  float64\n",
            " 23  V23     284807 non-null  float64\n",
            " 24  V24     284807 non-null  float64\n",
            " 25  V25     284807 non-null  float64\n",
            " 26  V26     284807 non-null  float64\n",
            " 27  V27     284807 non-null  float64\n",
            " 28  V28     284807 non-null  float64\n",
            " 29  Amount  284807 non-null  float64\n",
            " 30  Class   284807 non-null  int64  \n",
            "dtypes: float64(30), int64(1)\n",
            "memory usage: 67.4 MB\n"
          ]
        }
      ]
    },
    {
      "cell_type": "code",
      "source": [
        "# Compare different classes in the dataset\n",
        "classes = data['Class'].value_counts()\n",
        "classes.plot( kind='bar')\n",
        "plt.title(\"Fraud class histogram\")\n",
        "plt.xlabel(\"Class\")\n",
        "plt.ylabel(\"Frequency\")"
      ],
      "metadata": {
        "colab": {
          "base_uri": "https://localhost:8080/",
          "height": 308
        },
        "id": "VeSun1Fsl_if",
        "outputId": "b4ce27b4-e38b-4349-e303-fa6d638a9498"
      },
      "execution_count": 8,
      "outputs": [
        {
          "output_type": "execute_result",
          "data": {
            "text/plain": [
              "Text(0, 0.5, 'Frequency')"
            ]
          },
          "metadata": {},
          "execution_count": 8
        },
        {
          "output_type": "display_data",
          "data": {
            "image/png": "[encoded data removed]",
            "text/plain": [
              "<Figure size 432x288 with 1 Axes>"
            ]
          },
          "metadata": {
            "needs_background": "light"
          }
        }
      ]
    },
    {
      "cell_type": "code",
      "source": [
        "# Fraud rate is only 0.17%, dataset is very skewed towards non-fraud\n",
        "non_fraud = classes[0]/(classes[0]+classes[1])\n",
        "fraud = classes[1]/(classes[0]+classes[1])\n",
        "print(f'Non-fraud rate is {non_fraud: .2%}')\n",
        "print(f'Fraud rate is {fraud: .2%}')\n"
      ],
      "metadata": {
        "colab": {
          "base_uri": "https://localhost:8080/"
        },
        "id": "EPzyVi9qmKQ7",
        "outputId": "e435c51c-e8cc-42ec-90ed-efb92a6ba521"
      },
      "execution_count": 9,
      "outputs": [
        {
          "output_type": "stream",
          "name": "stdout",
          "text": [
            "Non-fraud rate is  99.83%\n",
            "Fraud rate is  0.17%\n"
          ]
        }
      ]
    },
    {
      "cell_type": "markdown",
      "source": [
        "## 2. Explore features correlation"
      ],
      "metadata": {
        "id": "96lphi4Rmru3"
      }
    },
    {
      "cell_type": "code",
      "source": [
        "# Make sure we use the subsample in our correlation\n",
        "f, ax1 = plt.subplots(figsize=(15,10))\n",
        "\n",
        "# Entire DataFrame\n",
        "corr = data.corr()\n",
        "sns.heatmap(corr, cmap='coolwarm_r', annot_kws={'size':20}, ax=ax1)\n",
        "ax1.set_title(\"Imbalanced Correlation Matrix\", fontsize=14)\n"
      ],
      "metadata": {
        "colab": {
          "base_uri": "https://localhost:8080/",
          "height": 655
        },
        "id": "rYMb8_FpmuAu",
        "outputId": "29bb6909-0b55-4467-a438-a946738cb69e"
      },
      "execution_count": 10,
      "outputs": [
        {
          "output_type": "execute_result",
          "data": {
            "text/plain": [
              "Text(0.5, 1.0, 'Imbalanced Correlation Matrix')"
            ]
          },
          "metadata": {},
          "execution_count": 10
        },
        {
          "output_type": "display_data",
          "data": {
            "image/png": "[encoded data removed]",
            "text/plain": [
              "<Figure size 1080x720 with 2 Axes>"
            ]
          },
          "metadata": {
            "needs_background": "light"
          }
        }
      ]
    },
    {
      "cell_type": "markdown",
      "source": [
        "## 3. Using Standard scaler and Robust scaler on \"Amount\" and \"Time\" columns"
      ],
      "metadata": {
        "id": "KQgtdhMmoB5I"
      }
    },
    {
      "cell_type": "code",
      "source": [
        "std_scaler = StandardScaler()\n",
        "rob_scaler = RobustScaler()\n",
        "\n",
        "data['amount_scaled'] = rob_scaler.fit_transform(data['Amount'].values.reshape(-1,1))\n",
        "data['time_scaled'] = std_scaler.fit_transform(data['Time'].values.reshape(-1,1))"
      ],
      "metadata": {
        "id": "Zkfbqpj0oIBA"
      },
      "execution_count": 11,
      "outputs": []
    },
    {
      "cell_type": "code",
      "source": [
        "data.drop(['Time','Amount'], axis=1, inplace=True)"
      ],
      "metadata": {
        "id": "lGLMWI2zoMAT"
      },
      "execution_count": 12,
      "outputs": []
    },
    {
      "cell_type": "code",
      "source": [
        "data.head()"
      ],
      "metadata": {
        "colab": {
          "base_uri": "https://localhost:8080/",
          "height": 270
        },
        "id": "3HjG8Cb6oS48",
        "outputId": "cc654ee8-d6bf-450b-8fe9-800dcc4409bc"
      },
      "execution_count": 13,
      "outputs": [
        {
          "output_type": "execute_result",
          "data": {
            "text/html": [
              "\n",
              "  <div id=\"df-5be2b9ab-b48d-45d4-a5c6-a9be43ea7ac6\">\n",
              "    <div class=\"colab-df-container\">\n",
              "      <div>\n",
              "<style scoped>\n",
              "    .dataframe tbody tr th:only-of-type {\n",
              "        vertical-align: middle;\n",
              "    }\n",
              "\n",
              "    .dataframe tbody tr th {\n",
              "        vertical-align: top;\n",
              "    }\n",
              "\n",
              "    .dataframe thead th {\n",
              "        text-align: right;\n",
              "    }\n",
              "</style>\n",
              "<table border=\"1\" class=\"dataframe\">\n",
              "  <thead>\n",
              "    <tr style=\"text-align: right;\">\n",
              "      <th></th>\n",
              "      <th>V1</th>\n",
              "      <th>V2</th>\n",
              "      <th>V3</th>\n",
              "      <th>V4</th>\n",
              "      <th>V5</th>\n",
              "      <th>V6</th>\n",
              "      <th>V7</th>\n",
              "      <th>V8</th>\n",
              "      <th>V9</th>\n",
              "      <th>V10</th>\n",
              "      <th>V11</th>\n",
              "      <th>V12</th>\n",
              "      <th>V13</th>\n",
              "      <th>V14</th>\n",
              "      <th>V15</th>\n",
              "      <th>V16</th>\n",
              "      <th>V17</th>\n",
              "      <th>V18</th>\n",
              "      <th>V19</th>\n",
              "      <th>V20</th>\n",
              "      <th>V21</th>\n",
              "      <th>V22</th>\n",
              "      <th>V23</th>\n",
              "      <th>V24</th>\n",
              "      <th>V25</th>\n",
              "      <th>V26</th>\n",
              "      <th>V27</th>\n",
              "      <th>V28</th>\n",
              "      <th>Class</th>\n",
              "      <th>amount_scaled</th>\n",
              "      <th>time_scaled</th>\n",
              "    </tr>\n",
              "  </thead>\n",
              "  <tbody>\n",
              "    <tr>\n",
              "      <th>0</th>\n",
              "      <td>-1.359807</td>\n",
              "      <td>-0.072781</td>\n",
              "      <td>2.536347</td>\n",
              "      <td>1.378155</td>\n",
              "      <td>-0.338321</td>\n",
              "      <td>0.462388</td>\n",
              "      <td>0.239599</td>\n",
              "      <td>0.098698</td>\n",
              "      <td>0.363787</td>\n",
              "      <td>0.090794</td>\n",
              "      <td>-0.551600</td>\n",
              "      <td>-0.617801</td>\n",
              "      <td>-0.991390</td>\n",
              "      <td>-0.311169</td>\n",
              "      <td>1.468177</td>\n",
              "      <td>-0.470401</td>\n",
              "      <td>0.207971</td>\n",
              "      <td>0.025791</td>\n",
              "      <td>0.403993</td>\n",
              "      <td>0.251412</td>\n",
              "      <td>-0.018307</td>\n",
              "      <td>0.277838</td>\n",
              "      <td>-0.110474</td>\n",
              "      <td>0.066928</td>\n",
              "      <td>0.128539</td>\n",
              "      <td>-0.189115</td>\n",
              "      <td>0.133558</td>\n",
              "      <td>-0.021053</td>\n",
              "      <td>0</td>\n",
              "      <td>1.783274</td>\n",
              "      <td>-1.996583</td>\n",
              "    </tr>\n",
              "    <tr>\n",
              "      <th>1</th>\n",
              "      <td>1.191857</td>\n",
              "      <td>0.266151</td>\n",
              "      <td>0.166480</td>\n",
              "      <td>0.448154</td>\n",
              "      <td>0.060018</td>\n",
              "      <td>-0.082361</td>\n",
              "      <td>-0.078803</td>\n",
              "      <td>0.085102</td>\n",
              "      <td>-0.255425</td>\n",
              "      <td>-0.166974</td>\n",
              "      <td>1.612727</td>\n",
              "      <td>1.065235</td>\n",
              "      <td>0.489095</td>\n",
              "      <td>-0.143772</td>\n",
              "      <td>0.635558</td>\n",
              "      <td>0.463917</td>\n",
              "      <td>-0.114805</td>\n",
              "      <td>-0.183361</td>\n",
              "      <td>-0.145783</td>\n",
              "      <td>-0.069083</td>\n",
              "      <td>-0.225775</td>\n",
              "      <td>-0.638672</td>\n",
              "      <td>0.101288</td>\n",
              "      <td>-0.339846</td>\n",
              "      <td>0.167170</td>\n",
              "      <td>0.125895</td>\n",
              "      <td>-0.008983</td>\n",
              "      <td>0.014724</td>\n",
              "      <td>0</td>\n",
              "      <td>-0.269825</td>\n",
              "      <td>-1.996583</td>\n",
              "    </tr>\n",
              "    <tr>\n",
              "      <th>2</th>\n",
              "      <td>-1.358354</td>\n",
              "      <td>-1.340163</td>\n",
              "      <td>1.773209</td>\n",
              "      <td>0.379780</td>\n",
              "      <td>-0.503198</td>\n",
              "      <td>1.800499</td>\n",
              "      <td>0.791461</td>\n",
              "      <td>0.247676</td>\n",
              "      <td>-1.514654</td>\n",
              "      <td>0.207643</td>\n",
              "      <td>0.624501</td>\n",
              "      <td>0.066084</td>\n",
              "      <td>0.717293</td>\n",
              "      <td>-0.165946</td>\n",
              "      <td>2.345865</td>\n",
              "      <td>-2.890083</td>\n",
              "      <td>1.109969</td>\n",
              "      <td>-0.121359</td>\n",
              "      <td>-2.261857</td>\n",
              "      <td>0.524980</td>\n",
              "      <td>0.247998</td>\n",
              "      <td>0.771679</td>\n",
              "      <td>0.909412</td>\n",
              "      <td>-0.689281</td>\n",
              "      <td>-0.327642</td>\n",
              "      <td>-0.139097</td>\n",
              "      <td>-0.055353</td>\n",
              "      <td>-0.059752</td>\n",
              "      <td>0</td>\n",
              "      <td>4.983721</td>\n",
              "      <td>-1.996562</td>\n",
              "    </tr>\n",
              "    <tr>\n",
              "      <th>3</th>\n",
              "      <td>-0.966272</td>\n",
              "      <td>-0.185226</td>\n",
              "      <td>1.792993</td>\n",
              "      <td>-0.863291</td>\n",
              "      <td>-0.010309</td>\n",
              "      <td>1.247203</td>\n",
              "      <td>0.237609</td>\n",
              "      <td>0.377436</td>\n",
              "      <td>-1.387024</td>\n",
              "      <td>-0.054952</td>\n",
              "      <td>-0.226487</td>\n",
              "      <td>0.178228</td>\n",
              "      <td>0.507757</td>\n",
              "      <td>-0.287924</td>\n",
              "      <td>-0.631418</td>\n",
              "      <td>-1.059647</td>\n",
              "      <td>-0.684093</td>\n",
              "      <td>1.965775</td>\n",
              "      <td>-1.232622</td>\n",
              "      <td>-0.208038</td>\n",
              "      <td>-0.108300</td>\n",
              "      <td>0.005274</td>\n",
              "      <td>-0.190321</td>\n",
              "      <td>-1.175575</td>\n",
              "      <td>0.647376</td>\n",
              "      <td>-0.221929</td>\n",
              "      <td>0.062723</td>\n",
              "      <td>0.061458</td>\n",
              "      <td>0</td>\n",
              "      <td>1.418291</td>\n",
              "      <td>-1.996562</td>\n",
              "    </tr>\n",
              "    <tr>\n",
              "      <th>4</th>\n",
              "      <td>-1.158233</td>\n",
              "      <td>0.877737</td>\n",
              "      <td>1.548718</td>\n",
              "      <td>0.403034</td>\n",
              "      <td>-0.407193</td>\n",
              "      <td>0.095921</td>\n",
              "      <td>0.592941</td>\n",
              "      <td>-0.270533</td>\n",
              "      <td>0.817739</td>\n",
              "      <td>0.753074</td>\n",
              "      <td>-0.822843</td>\n",
              "      <td>0.538196</td>\n",
              "      <td>1.345852</td>\n",
              "      <td>-1.119670</td>\n",
              "      <td>0.175121</td>\n",
              "      <td>-0.451449</td>\n",
              "      <td>-0.237033</td>\n",
              "      <td>-0.038195</td>\n",
              "      <td>0.803487</td>\n",
              "      <td>0.408542</td>\n",
              "      <td>-0.009431</td>\n",
              "      <td>0.798278</td>\n",
              "      <td>-0.137458</td>\n",
              "      <td>0.141267</td>\n",
              "      <td>-0.206010</td>\n",
              "      <td>0.502292</td>\n",
              "      <td>0.219422</td>\n",
              "      <td>0.215153</td>\n",
              "      <td>0</td>\n",
              "      <td>0.670579</td>\n",
              "      <td>-1.996541</td>\n",
              "    </tr>\n",
              "  </tbody>\n",
              "</table>\n",
              "</div>\n",
              "      <button class=\"colab-df-convert\" onclick=\"convertToInteractive('df-5be2b9ab-b48d-45d4-a5c6-a9be43ea7ac6')\"\n",
              "              title=\"Convert this dataframe to an interactive table.\"\n",
              "              style=\"display:none;\">\n",
              "        \n",
              "  <svg xmlns=\"http://www.w3.org/2000/svg\" height=\"24px\"viewBox=\"0 0 24 24\"\n",
              "       width=\"24px\">\n",
              "    <path d=\"M0 0h24v24H0V0z\" fill=\"none\"/>\n",
              "    <path d=\"M18.56 5.44l.94 2.06.94-2.06 2.06-.94-2.06-.94-.94-2.06-.94 2.06-2.06.94zm-11 1L8.5 8.5l.94-2.06 2.06-.94-2.06-.94L8.5 2.5l-.94 2.06-2.06.94zm10 10l.94 2.06.94-2.06 2.06-.94-2.06-.94-.94-2.06-.94 2.06-2.06.94z\"/><path d=\"M17.41 7.96l-1.37-1.37c-.4-.4-.92-.59-1.43-.59-.52 0-1.04.2-1.43.59L10.3 9.45l-7.72 7.72c-.78.78-.78 2.05 0 2.83L4 21.41c.39.39.9.59 1.41.59.51 0 1.02-.2 1.41-.59l7.78-7.78 2.81-2.81c.8-.78.8-2.07 0-2.86zM5.41 20L4 18.59l7.72-7.72 1.47 1.35L5.41 20z\"/>\n",
              "  </svg>\n",
              "      </button>\n",
              "      \n",
              "  <style>\n",
              "    .colab-df-container {\n",
              "      display:flex;\n",
              "      flex-wrap:wrap;\n",
              "      gap: 12px;\n",
              "    }\n",
              "\n",
              "    .colab-df-convert {\n",
              "      background-color: #E8F0FE;\n",
              "      border: none;\n",
              "      border-radius: 50%;\n",
              "      cursor: pointer;\n",
              "      display: none;\n",
              "      fill: #1967D2;\n",
              "      height: 32px;\n",
              "      padding: 0 0 0 0;\n",
              "      width: 32px;\n",
              "    }\n",
              "\n",
              "    .colab-df-convert:hover {\n",
              "      background-color: #E2EBFA;\n",
              "      box-shadow: 0px 1px 2px rgba(60, 64, 67, 0.3), 0px 1px 3px 1px rgba(60, 64, 67, 0.15);\n",
              "      fill: #174EA6;\n",
              "    }\n",
              "\n",
              "    [theme=dark] .colab-df-convert {\n",
              "      background-color: #3B4455;\n",
              "      fill: #D2E3FC;\n",
              "    }\n",
              "\n",
              "    [theme=dark] .colab-df-convert:hover {\n",
              "      background-color: #434B5C;\n",
              "      box-shadow: 0px 1px 3px 1px rgba(0, 0, 0, 0.15);\n",
              "      filter: drop-shadow(0px 1px 2px rgba(0, 0, 0, 0.3));\n",
              "      fill: #FFFFFF;\n",
              "    }\n",
              "  </style>\n",
              "\n",
              "      <script>\n",
              "        const buttonEl =\n",
              "          document.querySelector('#df-5be2b9ab-b48d-45d4-a5c6-a9be43ea7ac6 button.colab-df-convert');\n",
              "        buttonEl.style.display =\n",
              "          google.colab.kernel.accessAllowed ? 'block' : 'none';\n",
              "\n",
              "        async function convertToInteractive(key) {\n",
              "          const element = document.querySelector('#df-5be2b9ab-b48d-45d4-a5c6-a9be43ea7ac6');\n",
              "          const dataTable =\n",
              "            await google.colab.kernel.invokeFunction('convertToInteractive',\n",
              "                                                     [key], {});\n",
              "          if (!dataTable) return;\n",
              "\n",
              "          const docLinkHtml = 'Like what you see? Visit the ' +\n",
              "            '<a target=\"_blank\" href=https://colab.research.google.com/notebooks/data_table.ipynb>data table notebook</a>'\n",
              "            + ' to learn more about interactive tables.';\n",
              "          element.innerHTML = '';\n",
              "          dataTable['output_type'] = 'display_data';\n",
              "          await google.colab.output.renderOutput(dataTable, element);\n",
              "          const docLink = document.createElement('div');\n",
              "          docLink.innerHTML = docLinkHtml;\n",
              "          element.appendChild(docLink);\n",
              "        }\n",
              "      </script>\n",
              "    </div>\n",
              "  </div>\n",
              "  "
            ],
            "text/plain": [
              "         V1        V2        V3  ...  Class  amount_scaled  time_scaled\n",
              "0 -1.359807 -0.072781  2.536347  ...      0       1.783274    -1.996583\n",
              "1  1.191857  0.266151  0.166480  ...      0      -0.269825    -1.996583\n",
              "2 -1.358354 -1.340163  1.773209  ...      0       4.983721    -1.996562\n",
              "3 -0.966272 -0.185226  1.792993  ...      0       1.418291    -1.996562\n",
              "4 -1.158233  0.877737  1.548718  ...      0       0.670579    -1.996541\n",
              "\n",
              "[5 rows x 31 columns]"
            ]
          },
          "metadata": {},
          "execution_count": 13
        }
      ]
    },
    {
      "cell_type": "markdown",
      "source": [
        "## 4. Create train and test dataset"
      ],
      "metadata": {
        "id": "xgc2vtXSoYfK"
      }
    },
    {
      "cell_type": "code",
      "source": [
        "X = data.drop('Class', axis=1)\n",
        "y = data['Class']\n",
        "\n",
        "# Apply kfold\n",
        "sss = StratifiedKFold(n_splits=5, random_state=None, shuffle=False)\n",
        "\n",
        "for train_index, test_index in sss.split(X, y):\n",
        "    # print(\"Train:\", train_index, \"Test:\", test_index)\n",
        "    original_Xtrain, original_Xtest = X.iloc[train_index], X.iloc[test_index]\n",
        "    original_ytrain, original_ytest = y.iloc[train_index], y.iloc[test_index]\n",
        "\n",
        "# Turn into an array\n",
        "original_Xtrain = original_Xtrain.values\n",
        "original_Xtest = original_Xtest.values\n",
        "original_ytrain = original_ytrain.values\n",
        "original_ytest = original_ytest.values\n",
        "\n",
        "# See if both the train and test label distribution are similarly distributed\n",
        "train_unique_label, train_counts_label = np.unique(original_ytrain, return_counts=True)\n",
        "test_unique_label, test_counts_label = np.unique(original_ytest, return_counts=True)\n",
        "print('-' * 100)\n",
        "\n",
        "print('Label Distributions: \\n')\n",
        "print(train_counts_label/ len(original_ytrain))\n",
        "print(test_counts_label/ len(original_ytest))\n",
        "print(f'len of original dataset: {len(original_Xtrain)+len(original_Xtest): ,.0f}')\n",
        "print(f'len of train set: {len(original_Xtrain): ,.0f}')\n",
        "print(f'len of test set: {len(original_Xtest): ,.0f}')\n"
      ],
      "metadata": {
        "colab": {
          "base_uri": "https://localhost:8080/"
        },
        "id": "YS-_f008okPx",
        "outputId": "fd299014-31fc-4e64-84c0-9dec22929e18"
      },
      "execution_count": 14,
      "outputs": [
        {
          "output_type": "stream",
          "name": "stdout",
          "text": [
            "----------------------------------------------------------------------------------------------------\n",
            "Label Distributions: \n",
            "\n",
            "[0.99827076 0.00172924]\n",
            "[0.99827952 0.00172048]\n",
            "len of original dataset:  284,807\n",
            "len of train set:  227,846\n",
            "len of test set:  56,961\n"
          ]
        }
      ]
    },
    {
      "cell_type": "markdown",
      "source": [
        "#### Structure of the next part: Create undersampling and oversampling datasets to let model learn from a more balanced datasets. We then will compare which dataset will have better performance in term of recall score. "
      ],
      "metadata": {
        "id": "9CvygCQxqC8n"
      }
    },
    {
      "cell_type": "markdown",
      "source": [
        "# Part 2: Undersampling dataset"
      ],
      "metadata": {
        "id": "hJYQ4yrHqmPc"
      }
    },
    {
      "cell_type": "code",
      "source": [
        "# Sample from original dataset to create undersample dataset\n",
        "data = data.sample(frac=1)\n",
        "\n",
        "fraud_data = data.loc[data['Class'] == 1]\n",
        "nonfraud_data = data.loc[data['Class'] == 0][:492]\n",
        "\n",
        "undersample_data = pd.concat([fraud_data, nonfraud_data])\n",
        "\n",
        "undersample_data = undersample_data.sample(frac=1, random_state=42)\n",
        "undersample_data.head()"
      ],
      "metadata": {
        "colab": {
          "base_uri": "https://localhost:8080/",
          "height": 270
        },
        "id": "Z1CAyQmKqt3E",
        "outputId": "f544104b-7f7b-4ce8-8cfa-9ef6879f1067"
      },
      "execution_count": 15,
      "outputs": [
        {
          "output_type": "execute_result",
          "data": {
            "text/html": [
              "\n",
              "  <div id=\"df-274d5018-2c24-4f57-b120-4bae4a76083e\">\n",
              "    <div class=\"colab-df-container\">\n",
              "      <div>\n",
              "<style scoped>\n",
              "    .dataframe tbody tr th:only-of-type {\n",
              "        vertical-align: middle;\n",
              "    }\n",
              "\n",
              "    .dataframe tbody tr th {\n",
              "        vertical-align: top;\n",
              "    }\n",
              "\n",
              "    .dataframe thead th {\n",
              "        text-align: right;\n",
              "    }\n",
              "</style>\n",
              "<table border=\"1\" class=\"dataframe\">\n",
              "  <thead>\n",
              "    <tr style=\"text-align: right;\">\n",
              "      <th></th>\n",
              "      <th>V1</th>\n",
              "      <th>V2</th>\n",
              "      <th>V3</th>\n",
              "      <th>V4</th>\n",
              "      <th>V5</th>\n",
              "      <th>V6</th>\n",
              "      <th>V7</th>\n",
              "      <th>V8</th>\n",
              "      <th>V9</th>\n",
              "      <th>V10</th>\n",
              "      <th>V11</th>\n",
              "      <th>V12</th>\n",
              "      <th>V13</th>\n",
              "      <th>V14</th>\n",
              "      <th>V15</th>\n",
              "      <th>V16</th>\n",
              "      <th>V17</th>\n",
              "      <th>V18</th>\n",
              "      <th>V19</th>\n",
              "      <th>V20</th>\n",
              "      <th>V21</th>\n",
              "      <th>V22</th>\n",
              "      <th>V23</th>\n",
              "      <th>V24</th>\n",
              "      <th>V25</th>\n",
              "      <th>V26</th>\n",
              "      <th>V27</th>\n",
              "      <th>V28</th>\n",
              "      <th>Class</th>\n",
              "      <th>amount_scaled</th>\n",
              "      <th>time_scaled</th>\n",
              "    </tr>\n",
              "  </thead>\n",
              "  <tbody>\n",
              "    <tr>\n",
              "      <th>274148</th>\n",
              "      <td>-0.524380</td>\n",
              "      <td>1.085690</td>\n",
              "      <td>0.852972</td>\n",
              "      <td>-0.625487</td>\n",
              "      <td>0.336193</td>\n",
              "      <td>-1.207220</td>\n",
              "      <td>1.125615</td>\n",
              "      <td>-0.238448</td>\n",
              "      <td>-0.225236</td>\n",
              "      <td>-0.449119</td>\n",
              "      <td>-0.515328</td>\n",
              "      <td>0.218992</td>\n",
              "      <td>-0.082642</td>\n",
              "      <td>0.143067</td>\n",
              "      <td>-0.344476</td>\n",
              "      <td>-0.353387</td>\n",
              "      <td>-0.162770</td>\n",
              "      <td>-0.947880</td>\n",
              "      <td>-0.180508</td>\n",
              "      <td>-0.026536</td>\n",
              "      <td>-0.202046</td>\n",
              "      <td>-0.462333</td>\n",
              "      <td>-0.006016</td>\n",
              "      <td>0.400974</td>\n",
              "      <td>-0.432362</td>\n",
              "      <td>0.145430</td>\n",
              "      <td>0.187235</td>\n",
              "      <td>0.211227</td>\n",
              "      <td>0</td>\n",
              "      <td>-0.289387</td>\n",
              "      <td>1.496337</td>\n",
              "    </tr>\n",
              "    <tr>\n",
              "      <th>144104</th>\n",
              "      <td>-3.365265</td>\n",
              "      <td>2.928541</td>\n",
              "      <td>-5.660999</td>\n",
              "      <td>3.891160</td>\n",
              "      <td>-1.840375</td>\n",
              "      <td>-1.800887</td>\n",
              "      <td>-5.558679</td>\n",
              "      <td>2.402322</td>\n",
              "      <td>-2.848923</td>\n",
              "      <td>-5.995676</td>\n",
              "      <td>4.221304</td>\n",
              "      <td>-6.119667</td>\n",
              "      <td>0.023014</td>\n",
              "      <td>-8.149322</td>\n",
              "      <td>-0.301352</td>\n",
              "      <td>-5.375283</td>\n",
              "      <td>-9.315001</td>\n",
              "      <td>-2.487563</td>\n",
              "      <td>2.355919</td>\n",
              "      <td>0.576379</td>\n",
              "      <td>0.875260</td>\n",
              "      <td>-0.102501</td>\n",
              "      <td>-0.606283</td>\n",
              "      <td>-0.743165</td>\n",
              "      <td>0.096319</td>\n",
              "      <td>-0.135060</td>\n",
              "      <td>1.238695</td>\n",
              "      <td>0.099824</td>\n",
              "      <td>1</td>\n",
              "      <td>-0.293440</td>\n",
              "      <td>-0.188465</td>\n",
              "    </tr>\n",
              "    <tr>\n",
              "      <th>176863</th>\n",
              "      <td>1.848889</td>\n",
              "      <td>-0.550778</td>\n",
              "      <td>-0.930885</td>\n",
              "      <td>0.288508</td>\n",
              "      <td>-0.559124</td>\n",
              "      <td>-1.095871</td>\n",
              "      <td>-0.021309</td>\n",
              "      <td>-0.159696</td>\n",
              "      <td>0.808774</td>\n",
              "      <td>0.083773</td>\n",
              "      <td>-0.832143</td>\n",
              "      <td>-0.629440</td>\n",
              "      <td>-1.693069</td>\n",
              "      <td>0.723661</td>\n",
              "      <td>1.114738</td>\n",
              "      <td>0.489630</td>\n",
              "      <td>-0.432803</td>\n",
              "      <td>-0.632026</td>\n",
              "      <td>-0.045854</td>\n",
              "      <td>-0.116235</td>\n",
              "      <td>-0.417640</td>\n",
              "      <td>-1.526722</td>\n",
              "      <td>0.484877</td>\n",
              "      <td>-0.180126</td>\n",
              "      <td>-0.826876</td>\n",
              "      <td>0.023494</td>\n",
              "      <td>-0.095545</td>\n",
              "      <td>-0.035720</td>\n",
              "      <td>0</td>\n",
              "      <td>1.156152</td>\n",
              "      <td>0.592362</td>\n",
              "    </tr>\n",
              "    <tr>\n",
              "      <th>42887</th>\n",
              "      <td>-12.835760</td>\n",
              "      <td>6.574615</td>\n",
              "      <td>-12.788462</td>\n",
              "      <td>8.786257</td>\n",
              "      <td>-10.723121</td>\n",
              "      <td>-2.813536</td>\n",
              "      <td>-14.248847</td>\n",
              "      <td>7.960521</td>\n",
              "      <td>-7.718751</td>\n",
              "      <td>-13.074068</td>\n",
              "      <td>5.975131</td>\n",
              "      <td>-12.375375</td>\n",
              "      <td>1.472205</td>\n",
              "      <td>-11.470693</td>\n",
              "      <td>0.993143</td>\n",
              "      <td>-10.973805</td>\n",
              "      <td>-21.047630</td>\n",
              "      <td>-7.990783</td>\n",
              "      <td>3.331039</td>\n",
              "      <td>-0.617296</td>\n",
              "      <td>2.679490</td>\n",
              "      <td>-0.047335</td>\n",
              "      <td>-0.836982</td>\n",
              "      <td>0.625349</td>\n",
              "      <td>0.125865</td>\n",
              "      <td>0.177624</td>\n",
              "      <td>-0.817680</td>\n",
              "      <td>-0.521030</td>\n",
              "      <td>1</td>\n",
              "      <td>0.214071</td>\n",
              "      <td>-1.127207</td>\n",
              "    </tr>\n",
              "    <tr>\n",
              "      <th>12261</th>\n",
              "      <td>-17.467710</td>\n",
              "      <td>10.114816</td>\n",
              "      <td>-24.202142</td>\n",
              "      <td>11.805469</td>\n",
              "      <td>-10.198046</td>\n",
              "      <td>-2.579938</td>\n",
              "      <td>-17.656788</td>\n",
              "      <td>2.256902</td>\n",
              "      <td>-6.242149</td>\n",
              "      <td>-12.830657</td>\n",
              "      <td>9.442665</td>\n",
              "      <td>-13.547486</td>\n",
              "      <td>0.960729</td>\n",
              "      <td>-13.028717</td>\n",
              "      <td>-0.426674</td>\n",
              "      <td>-7.652662</td>\n",
              "      <td>-11.485328</td>\n",
              "      <td>-4.721370</td>\n",
              "      <td>0.550519</td>\n",
              "      <td>1.001519</td>\n",
              "      <td>-2.328024</td>\n",
              "      <td>0.940830</td>\n",
              "      <td>1.296817</td>\n",
              "      <td>-1.055104</td>\n",
              "      <td>0.111792</td>\n",
              "      <td>0.679695</td>\n",
              "      <td>2.093541</td>\n",
              "      <td>-1.425491</td>\n",
              "      <td>1</td>\n",
              "      <td>-0.293440</td>\n",
              "      <td>-1.545543</td>\n",
              "    </tr>\n",
              "  </tbody>\n",
              "</table>\n",
              "</div>\n",
              "      <button class=\"colab-df-convert\" onclick=\"convertToInteractive('df-274d5018-2c24-4f57-b120-4bae4a76083e')\"\n",
              "              title=\"Convert this dataframe to an interactive table.\"\n",
              "              style=\"display:none;\">\n",
              "        \n",
              "  <svg xmlns=\"http://www.w3.org/2000/svg\" height=\"24px\"viewBox=\"0 0 24 24\"\n",
              "       width=\"24px\">\n",
              "    <path d=\"M0 0h24v24H0V0z\" fill=\"none\"/>\n",
              "    <path d=\"M18.56 5.44l.94 2.06.94-2.06 2.06-.94-2.06-.94-.94-2.06-.94 2.06-2.06.94zm-11 1L8.5 8.5l.94-2.06 2.06-.94-2.06-.94L8.5 2.5l-.94 2.06-2.06.94zm10 10l.94 2.06.94-2.06 2.06-.94-2.06-.94-.94-2.06-.94 2.06-2.06.94z\"/><path d=\"M17.41 7.96l-1.37-1.37c-.4-.4-.92-.59-1.43-.59-.52 0-1.04.2-1.43.59L10.3 9.45l-7.72 7.72c-.78.78-.78 2.05 0 2.83L4 21.41c.39.39.9.59 1.41.59.51 0 1.02-.2 1.41-.59l7.78-7.78 2.81-2.81c.8-.78.8-2.07 0-2.86zM5.41 20L4 18.59l7.72-7.72 1.47 1.35L5.41 20z\"/>\n",
              "  </svg>\n",
              "      </button>\n",
              "      \n",
              "  <style>\n",
              "    .colab-df-container {\n",
              "      display:flex;\n",
              "      flex-wrap:wrap;\n",
              "      gap: 12px;\n",
              "    }\n",
              "\n",
              "    .colab-df-convert {\n",
              "      background-color: #E8F0FE;\n",
              "      border: none;\n",
              "      border-radius: 50%;\n",
              "      cursor: pointer;\n",
              "      display: none;\n",
              "      fill: #1967D2;\n",
              "      height: 32px;\n",
              "      padding: 0 0 0 0;\n",
              "      width: 32px;\n",
              "    }\n",
              "\n",
              "    .colab-df-convert:hover {\n",
              "      background-color: #E2EBFA;\n",
              "      box-shadow: 0px 1px 2px rgba(60, 64, 67, 0.3), 0px 1px 3px 1px rgba(60, 64, 67, 0.15);\n",
              "      fill: #174EA6;\n",
              "    }\n",
              "\n",
              "    [theme=dark] .colab-df-convert {\n",
              "      background-color: #3B4455;\n",
              "      fill: #D2E3FC;\n",
              "    }\n",
              "\n",
              "    [theme=dark] .colab-df-convert:hover {\n",
              "      background-color: #434B5C;\n",
              "      box-shadow: 0px 1px 3px 1px rgba(0, 0, 0, 0.15);\n",
              "      filter: drop-shadow(0px 1px 2px rgba(0, 0, 0, 0.3));\n",
              "      fill: #FFFFFF;\n",
              "    }\n",
              "  </style>\n",
              "\n",
              "      <script>\n",
              "        const buttonEl =\n",
              "          document.querySelector('#df-274d5018-2c24-4f57-b120-4bae4a76083e button.colab-df-convert');\n",
              "        buttonEl.style.display =\n",
              "          google.colab.kernel.accessAllowed ? 'block' : 'none';\n",
              "\n",
              "        async function convertToInteractive(key) {\n",
              "          const element = document.querySelector('#df-274d5018-2c24-4f57-b120-4bae4a76083e');\n",
              "          const dataTable =\n",
              "            await google.colab.kernel.invokeFunction('convertToInteractive',\n",
              "                                                     [key], {});\n",
              "          if (!dataTable) return;\n",
              "\n",
              "          const docLinkHtml = 'Like what you see? Visit the ' +\n",
              "            '<a target=\"_blank\" href=https://colab.research.google.com/notebooks/data_table.ipynb>data table notebook</a>'\n",
              "            + ' to learn more about interactive tables.';\n",
              "          element.innerHTML = '';\n",
              "          dataTable['output_type'] = 'display_data';\n",
              "          await google.colab.output.renderOutput(dataTable, element);\n",
              "          const docLink = document.createElement('div');\n",
              "          docLink.innerHTML = docLinkHtml;\n",
              "          element.appendChild(docLink);\n",
              "        }\n",
              "      </script>\n",
              "    </div>\n",
              "  </div>\n",
              "  "
            ],
            "text/plain": [
              "               V1         V2         V3  ...  Class  amount_scaled  time_scaled\n",
              "274148  -0.524380   1.085690   0.852972  ...      0      -0.289387     1.496337\n",
              "144104  -3.365265   2.928541  -5.660999  ...      1      -0.293440    -0.188465\n",
              "176863   1.848889  -0.550778  -0.930885  ...      0       1.156152     0.592362\n",
              "42887  -12.835760   6.574615 -12.788462  ...      1       0.214071    -1.127207\n",
              "12261  -17.467710  10.114816 -24.202142  ...      1      -0.293440    -1.545543\n",
              "\n",
              "[5 rows x 31 columns]"
            ]
          },
          "metadata": {},
          "execution_count": 15
        }
      ]
    },
    {
      "cell_type": "code",
      "source": [
        "# Testing the undersample dataset\n",
        "print('Distribution of the Classes in the subsample dataset')\n",
        "print(undersample_data['Class'].value_counts()/len(undersample_data))\n",
        "\n",
        "colors = [\"#0101DF\", \"#DF0101\"]\n",
        "sns.countplot('Class', data=undersample_data, palette=colors)\n",
        "plt.title('Classes in undersample dataset', fontsize=14)\n",
        "plt.show()"
      ],
      "metadata": {
        "colab": {
          "base_uri": "https://localhost:8080/",
          "height": 365
        },
        "id": "pP--kTpZrB8k",
        "outputId": "a285f7bf-ba5a-437d-eba5-aff0a1f0df05"
      },
      "execution_count": 16,
      "outputs": [
        {
          "output_type": "stream",
          "name": "stdout",
          "text": [
            "Distribution of the Classes in the subsample dataset\n",
            "1    0.5\n",
            "0    0.5\n",
            "Name: Class, dtype: float64\n"
          ]
        },
        {
          "output_type": "display_data",
          "data": {
            "image/png": "[encoded data removed]",
            "text/plain": [
              "<Figure size 432x288 with 1 Axes>"
            ]
          },
          "metadata": {
            "needs_background": "light"
          }
        }
      ]
    },
    {
      "cell_type": "markdown",
      "source": [
        "Observation: Pay attention to features that have high correlation to Class: \n",
        "- Positive correlation: V11, V4, V2, V19\n",
        "- Negative correlation: V17, V14, V12, V10"
      ],
      "metadata": {
        "id": "qWq-HScsrPwG"
      }
    },
    {
      "cell_type": "code",
      "source": [
        "# Create correlation matrix in undersample dataset\n",
        "f, ax1 = plt.subplots(figsize=(15,10))\n",
        "\n",
        "# Entire DataFrame\n",
        "corr = undersample_data.corr()\n",
        "sns.heatmap(corr, cmap='coolwarm_r', annot_kws={'size':20}, ax=ax1)\n",
        "ax1.set_title(\"Undersample Correlation Matrix\", fontsize=14)\n"
      ],
      "metadata": {
        "colab": {
          "base_uri": "https://localhost:8080/",
          "height": 691
        },
        "id": "3FEhktDYrEhY",
        "outputId": "7d141802-37a4-4064-efd3-109936512f04"
      },
      "execution_count": 17,
      "outputs": [
        {
          "output_type": "execute_result",
          "data": {
            "text/plain": [
              "Text(0.5, 1.0, 'Undersample Correlation Matrix')"
            ]
          },
          "metadata": {},
          "execution_count": 17
        },
        {
          "output_type": "display_data",
          "data": {
            "image/png": "[encoded data removed]",
            "text/plain": [
              "<Figure size 1080x720 with 2 Axes>"
            ]
          },
          "metadata": {
            "needs_background": "light"
          }
        }
      ]
    },
    {
      "cell_type": "markdown",
      "source": [
        "## Train undersample dataset"
      ],
      "metadata": {
        "id": "l4Mx4SP3rVgt"
      }
    },
    {
      "cell_type": "code",
      "source": [
        "# X_undersample = X_reduced_pca\n",
        "X_undersample = undersample_data.drop('Class', axis=1)\n",
        "y_undersample = undersample_data['Class']"
      ],
      "metadata": {
        "id": "ONDyqtnVrgmC"
      },
      "execution_count": 18,
      "outputs": []
    },
    {
      "cell_type": "code",
      "source": [
        "# undersample dataset\n",
        "X_undersample_train, X_undersample_test, y_undersample_train, y_undersample_test = train_test_split(X_undersample,y_undersample,test_size=0.3,random_state=2022)\n",
        "\n",
        "print(\"Number transactions train dataset: \", len(X_undersample_train))\n",
        "print(\"Number transactions test dataset: \", len(X_undersample_test))\n",
        "print(\"Total number of transactions: \", len(X_undersample_train)+len(X_undersample_test))"
      ],
      "metadata": {
        "colab": {
          "base_uri": "https://localhost:8080/"
        },
        "id": "23BRWYbAxh1Y",
        "outputId": "be17d6ee-6f5d-498e-c7b8-8cf201daf0c1"
      },
      "execution_count": 19,
      "outputs": [
        {
          "output_type": "stream",
          "name": "stdout",
          "text": [
            "Number transactions train dataset:  688\n",
            "Number transactions test dataset:  296\n",
            "Total number of transactions:  984\n"
          ]
        }
      ]
    },
    {
      "cell_type": "code",
      "source": [
        "# Let's implement simple classifiers\n",
        "\n",
        "classifiers = {\n",
        "    \"LogisiticRegression\": LogisticRegression(),\n",
        "    \"KNearest\": KNeighborsClassifier(),\n",
        "    \"Support Vector Classifier\": SVC(),\n",
        "    \"DecisionTreeClassifier\": DecisionTreeClassifier()\n",
        "}"
      ],
      "metadata": {
        "id": "9J8IEPvoxiTD"
      },
      "execution_count": 20,
      "outputs": []
    },
    {
      "cell_type": "code",
      "source": [
        "from sklearn.model_selection import cross_val_score\n",
        "\n",
        "\n",
        "for key, classifier in classifiers.items():\n",
        "    classifier.fit(X_undersample_train, y_undersample_train)\n",
        "    training_score = cross_val_score(classifier, X_undersample_train, y_undersample_train, cv=5)\n",
        "    print(\"Classifiers: \", classifier.__class__.__name__, \"Has a training score of\", round(training_score.mean(), 2) * 100, \"% accuracy score\") "
      ],
      "metadata": {
        "colab": {
          "base_uri": "https://localhost:8080/"
        },
        "id": "y30ABbP-x3iP",
        "outputId": "dcec2814-744a-456a-bd27-dc140e6a6539"
      },
      "execution_count": 21,
      "outputs": [
        {
          "output_type": "stream",
          "name": "stdout",
          "text": [
            "Classifiers:  LogisticRegression Has a training score of 94.0 % accuracy score\n",
            "Classifiers:  KNeighborsClassifier Has a training score of 95.0 % accuracy score\n",
            "Classifiers:  SVC Has a training score of 94.0 % accuracy score\n",
            "Classifiers:  DecisionTreeClassifier Has a training score of 90.0 % accuracy score\n"
          ]
        }
      ]
    },
    {
      "cell_type": "code",
      "source": [
        "# Finding the best parameter for each model\n",
        "\n",
        "# Use GridSearchCV to find the best parameters.\n",
        "from sklearn.model_selection import GridSearchCV\n",
        "\n",
        "# Logistic Regression \n",
        "log_reg_params = {\"penalty\": ['l1', 'l2'], 'C': [0.001, 0.01, 0.1, 1, 10, 100, 1000]}\n",
        "\n",
        "grid_log_reg = GridSearchCV(LogisticRegression(), log_reg_params)\n",
        "grid_log_reg.fit(X_undersample_train, y_undersample_train)\n",
        "# We automatically get the logistic regression with the best parameters.\n",
        "log_reg = grid_log_reg.best_estimator_\n",
        "\n",
        "knears_params = {\"n_neighbors\": list(range(2,5,1)), 'algorithm': ['auto', 'ball_tree', 'kd_tree', 'brute']}\n",
        "\n",
        "grid_knears = GridSearchCV(KNeighborsClassifier(), knears_params)\n",
        "grid_knears.fit(X_undersample_train, y_undersample_train)\n",
        "# KNears best estimator\n",
        "knears_neighbors = grid_knears.best_estimator_\n",
        "\n",
        "# Support Vector Classifier\n",
        "svc_params = {'C': [0.5, 0.7, 0.9, 1], 'kernel': ['rbf', 'poly', 'sigmoid', 'linear']}\n",
        "grid_svc = GridSearchCV(SVC(), svc_params)\n",
        "grid_svc.fit(X_undersample_train, y_undersample_train)\n",
        "\n",
        "# SVC best estimator\n",
        "svc = grid_svc.best_estimator_\n",
        "\n",
        "# DecisionTree Classifier\n",
        "tree_params = {\"criterion\": [\"gini\", \"entropy\"], \"max_depth\": list(range(2,4,1)), \n",
        "              \"min_samples_leaf\": list(range(5,7,1))}\n",
        "grid_tree = GridSearchCV(DecisionTreeClassifier(), tree_params)\n",
        "grid_tree.fit(X_undersample_train, y_undersample_train)\n",
        "\n",
        "# tree best estimator\n",
        "tree_clf = grid_tree.best_estimator_\n",
        "\n"
      ],
      "metadata": {
        "id": "SMKlNqNZxkxw"
      },
      "execution_count": 22,
      "outputs": []
    },
    {
      "cell_type": "code",
      "source": [
        "print(f\"Log Reg best estimator is: {log_reg}\")\n",
        "print(f\"K Neighbor best estimator is: {knears_neighbors}\")\n",
        "print(f\"Support Vector Machine best estimator is: {svc}\")\n",
        "print(f\"Decision Tree best estimator is: {tree_clf}\")"
      ],
      "metadata": {
        "colab": {
          "base_uri": "https://localhost:8080/"
        },
        "id": "1MKbv7YdyInG",
        "outputId": "8767ca01-0fea-4488-85cb-48f09c020d6e"
      },
      "execution_count": 23,
      "outputs": [
        {
          "output_type": "stream",
          "name": "stdout",
          "text": [
            "Log Reg best estimator is: LogisticRegression(C=0.1)\n",
            "K Neighbor best estimator is: KNeighborsClassifier(n_neighbors=3)\n",
            "Support Vector Machine best estimator is: SVC(C=1)\n",
            "Decision Tree best estimator is: DecisionTreeClassifier(max_depth=2, min_samples_leaf=5)\n"
          ]
        }
      ]
    },
    {
      "cell_type": "code",
      "source": [
        "# Create ROC Curve\n",
        "from sklearn.metrics import roc_curve\n",
        "from sklearn.model_selection import cross_val_predict\n",
        "# Create a DataFrame with all the scores and the classifiers names.\n",
        "\n",
        "log_reg_pred = cross_val_predict(log_reg, X_undersample_train, y_undersample_train, cv=5,\n",
        "                             method=\"decision_function\")\n",
        "\n",
        "knears_pred = cross_val_predict(knears_neighbors, X_undersample_train, y_undersample_train, cv=5)\n",
        "\n",
        "svc_pred = cross_val_predict(svc, X_undersample_train, y_undersample_train, cv=5,\n",
        "                             method=\"decision_function\")\n",
        "\n",
        "tree_pred = cross_val_predict(tree_clf, X_undersample_train, y_undersample_train, cv=5)\n",
        "\n",
        "# Create ROC curve\n",
        "log_fpr, log_tpr, log_thresold = roc_curve(y_undersample_train, log_reg_pred)\n",
        "knear_fpr, knear_tpr, knear_threshold = roc_curve(y_undersample_train, knears_pred)\n",
        "svc_fpr, svc_tpr, svc_threshold = roc_curve(y_undersample_train, svc_pred)\n",
        "tree_fpr, tree_tpr, tree_threshold = roc_curve(y_undersample_train, tree_pred)\n",
        "\n",
        "\n",
        "def graph_roc_curve_multiple(log_fpr, log_tpr, knear_fpr, knear_tpr, svc_fpr, svc_tpr, tree_fpr, tree_tpr):\n",
        "    plt.figure(figsize=(16,8))\n",
        "    plt.title('ROC Curve \\n Top 4 Classifiers', fontsize=18)\n",
        "    plt.plot(log_fpr, log_tpr, label='Logistic Regression Classifier Score: {:.4f}'.format(roc_auc_score(y_undersample_train, log_reg_pred)))\n",
        "    plt.plot(knear_fpr, knear_tpr, label='KNears Neighbors Classifier Score: {:.4f}'.format(roc_auc_score(y_undersample_train, knears_pred)))\n",
        "    plt.plot(svc_fpr, svc_tpr, label='Support Vector Classifier Score: {:.4f}'.format(roc_auc_score(y_undersample_train, svc_pred)))\n",
        "    plt.plot(tree_fpr, tree_tpr, label='Decision Tree Classifier Score: {:.4f}'.format(roc_auc_score(y_undersample_train, tree_pred)))\n",
        "    plt.plot([0, 1], [0, 1], 'k--')\n",
        "    plt.axis([-0.01, 1, 0, 1])\n",
        "    plt.xlabel('False Positive Rate', fontsize=16)\n",
        "    plt.ylabel('True Positive Rate', fontsize=16)\n",
        "\n",
        "    plt.legend()\n",
        "    \n",
        "graph_roc_curve_multiple(log_fpr, log_tpr, knear_fpr, knear_tpr, svc_fpr, svc_tpr, tree_fpr, tree_tpr)\n",
        "plt.show()"
      ],
      "metadata": {
        "colab": {
          "base_uri": "https://localhost:8080/",
          "height": 542
        },
        "id": "oM6OUYO_yJXt",
        "outputId": "77fa4baa-cb73-46cb-fd2f-a9b170e89a6f"
      },
      "execution_count": 24,
      "outputs": [
        {
          "output_type": "display_data",
          "data": {
            "image/png": "[encoded data removed]",
            "text/plain": [
              "<Figure size 1152x576 with 1 Axes>"
            ]
          },
          "metadata": {
            "needs_background": "light"
          }
        }
      ]
    },
    {
      "cell_type": "markdown",
      "source": [
        "### Final result on undersample dataset for each model"
      ],
      "metadata": {
        "id": "-cqbIuYpyZKX"
      }
    },
    {
      "cell_type": "code",
      "source": [
        "# Logistic Regression\n",
        "print('Logistic Regression: \\n')\n",
        "\n",
        "y_pred = log_reg.predict(X_undersample_test)\n",
        "print('Recall Score: {:.2f}'.format(recall_score(y_undersample_test, y_pred)))\n",
        "print('Precision Score: {:.2f}'.format(precision_score(y_undersample_test, y_pred)))\n",
        "print('F1 Score: {:.2f}'.format(f1_score(y_undersample_test, y_pred)))\n",
        "print('Accuracy Score: {:.2f}'.format(accuracy_score(y_undersample_test, y_pred)))\n",
        "print('---' * 25)\n",
        "\n",
        "print('K-nearest neighbors: \\n')\n",
        "\n",
        "y_pred = knears_neighbors.predict(X_undersample_test)\n",
        "print('Recall Score: {:.2f}'.format(recall_score(y_undersample_test, y_pred)))\n",
        "print('Precision Score: {:.2f}'.format(precision_score(y_undersample_test, y_pred)))\n",
        "print('F1 Score: {:.2f}'.format(f1_score(y_undersample_test, y_pred)))\n",
        "print('Accuracy Score: {:.2f}'.format(accuracy_score(y_undersample_test, y_pred)))\n",
        "print('---' * 25)\n",
        "\n",
        "print('Support Vector Machine: \\n')\n",
        "\n",
        "y_pred = svc.predict(X_undersample_test)\n",
        "print('Recall Score: {:.2f}'.format(recall_score(y_undersample_test, y_pred)))\n",
        "print('Precision Score: {:.2f}'.format(precision_score(y_undersample_test, y_pred)))\n",
        "print('F1 Score: {:.2f}'.format(f1_score(y_undersample_test, y_pred)))\n",
        "print('Accuracy Score: {:.2f}'.format(accuracy_score(y_undersample_test, y_pred)))\n",
        "print('---' * 25)\n",
        "\n",
        "print('Decision Tree: \\n')\n",
        "\n",
        "y_pred = tree_clf.predict(X_undersample_test)\n",
        "print('Recall Score: {:.2f}'.format(recall_score(y_undersample_test, y_pred)))\n",
        "print('Precision Score: {:.2f}'.format(precision_score(y_undersample_test, y_pred)))\n",
        "print('F1 Score: {:.2f}'.format(f1_score(y_undersample_test, y_pred)))\n",
        "print('Accuracy Score: {:.2f}'.format(accuracy_score(y_undersample_test, y_pred)))\n",
        "print('---' * 25)\n"
      ],
      "metadata": {
        "colab": {
          "base_uri": "https://localhost:8080/"
        },
        "id": "belXonYwyQ8v",
        "outputId": "2324f2af-51ed-43c4-becd-1056cb900a47"
      },
      "execution_count": 25,
      "outputs": [
        {
          "output_type": "stream",
          "name": "stdout",
          "text": [
            "Logistic Regression: \n",
            "\n",
            "Recall Score: 0.89\n",
            "Precision Score: 0.93\n",
            "F1 Score: 0.91\n",
            "Accuracy Score: 0.92\n",
            "---------------------------------------------------------------------------\n",
            "K-nearest neighbors: \n",
            "\n",
            "Recall Score: 0.90\n",
            "Precision Score: 0.95\n",
            "F1 Score: 0.93\n",
            "Accuracy Score: 0.93\n",
            "---------------------------------------------------------------------------\n",
            "Support Vector Machine: \n",
            "\n",
            "Recall Score: 0.88\n",
            "Precision Score: 0.95\n",
            "F1 Score: 0.91\n",
            "Accuracy Score: 0.92\n",
            "---------------------------------------------------------------------------\n",
            "Decision Tree: \n",
            "\n",
            "Recall Score: 0.90\n",
            "Precision Score: 0.93\n",
            "F1 Score: 0.92\n",
            "Accuracy Score: 0.92\n",
            "---------------------------------------------------------------------------\n"
          ]
        }
      ]
    },
    {
      "cell_type": "markdown",
      "source": [
        "#### Logistic Regression has the highest Recall and Precision score. We will compare the score of logistic regression in undersamle dataset to the score of best model in oversample dataset"
      ],
      "metadata": {
        "id": "GDPVxMUCyfEv"
      }
    },
    {
      "cell_type": "markdown",
      "source": [
        "# Part 3. Oversampling dataset"
      ],
      "metadata": {
        "id": "hRLak2Tez7dG"
      }
    },
    {
      "cell_type": "code",
      "source": [
        "# Original dataset\n",
        "from sklearn.model_selection import train_test_split, RandomizedSearchCV\n",
        "\n",
        "print('Length of X (train): {} | Length of y (train): {}'.format(len(original_Xtrain), len(original_ytrain)))\n",
        "print('Length of X (test): {} | Length of y (test): {}'.format(len(original_Xtest), len(original_ytest)))\n",
        "\n",
        "# List to append the score and then find the average\n",
        "accuracy_lst = []\n",
        "precision_lst = []\n",
        "recall_lst = []\n",
        "f1_lst = []\n",
        "auc_lst = []\n",
        "\n",
        "# Classifier with optimal parameters\n",
        "# log_reg_sm = grid_log_reg.best_estimator_\n",
        "log_reg_sm = LogisticRegression()\n",
        "\n",
        "rand_log_reg = RandomizedSearchCV(LogisticRegression(), log_reg_params, n_iter=4)"
      ],
      "metadata": {
        "colab": {
          "base_uri": "https://localhost:8080/"
        },
        "id": "8lkiVob3yX2z",
        "outputId": "be5806bc-140c-4494-a6c3-eb5544e6ce81"
      },
      "execution_count": 26,
      "outputs": [
        {
          "output_type": "stream",
          "name": "stdout",
          "text": [
            "Length of X (train): 227846 | Length of y (train): 227846\n",
            "Length of X (test): 56961 | Length of y (test): 56961\n"
          ]
        }
      ]
    },
    {
      "cell_type": "markdown",
      "source": [
        "## 3.1 Random forest"
      ],
      "metadata": {
        "id": "EaARlmJu_R8k"
      }
    },
    {
      "cell_type": "code",
      "source": [
        "# Apply borderline SMOTE to oversampling dataset\n",
        "from imblearn.over_sampling import BorderlineSMOTE\n",
        "borderlineSMOTE = BorderlineSMOTE(k_neighbors = 10, random_state = 42)\n",
        "\n",
        "X_oversample_train, y_oversample_train = borderlineSMOTE.fit_resample(original_Xtrain, original_ytrain)\n",
        "# X_oversample, y_oversample = borderlineSMOTE.fit_resample(X, y)"
      ],
      "metadata": {
        "id": "Mb1rwFazyNtw"
      },
      "execution_count": 27,
      "outputs": []
    },
    {
      "cell_type": "code",
      "source": [
        "# X_oversample_train, X_oversample_test, y_oversample_train, y_oversample_test = train_test_split(\n",
        "#     X_oversample, y_oversample, test_size = 0.3, \n",
        "#     random_state = 42) "
      ],
      "metadata": {
        "id": "fWV1_7Nn2jMJ"
      },
      "execution_count": 28,
      "outputs": []
    },
    {
      "cell_type": "code",
      "source": [
        "fraud = data[data['Class']==1]\n",
        "\n",
        "non_fraud = data[data['Class']==0]\n",
        "\n",
        "outlier_fraction = len(fraud)/float(len(non_fraud))"
      ],
      "metadata": {
        "id": "8HPccBBr1ls-"
      },
      "execution_count": 29,
      "outputs": []
    },
    {
      "cell_type": "code",
      "source": [
        "##Define the outlier detection methods\n",
        "\n",
        "classifiers = {\n",
        "    \"Isolation Forest\":IsolationForest(n_estimators=100, max_samples=len(X), \n",
        "                                       contamination=outlier_fraction,random_state=42, verbose=0),\n",
        "    \"Local Outlier Factor\":LocalOutlierFactor(n_neighbors=20, algorithm='auto', \n",
        "                                              leaf_size=30, metric='minkowski',\n",
        "                                              p=2, metric_params=None, contamination=outlier_fraction),\n",
        "    \"Support Vector Machine\":OneClassSVM(kernel='rbf', degree=3, gamma=0.1,nu=0.05, \n",
        "                                         max_iter=-1)\n",
        "   \n",
        "}"
      ],
      "metadata": {
        "id": "dKuaOUwg0yo1"
      },
      "execution_count": 30,
      "outputs": []
    },
    {
      "cell_type": "code",
      "source": [
        "len(original_ytrain)"
      ],
      "metadata": {
        "colab": {
          "base_uri": "https://localhost:8080/"
        },
        "id": "tMnaywDV74up",
        "outputId": "998315d7-c34b-4152-c340-56e7e1d7f7a4"
      },
      "execution_count": 31,
      "outputs": [
        {
          "output_type": "execute_result",
          "data": {
            "text/plain": [
              "227846"
            ]
          },
          "metadata": {},
          "execution_count": 31
        }
      ]
    },
    {
      "cell_type": "code",
      "source": [
        "from sklearn.ensemble import RandomForestClassifier\n",
        "from sklearn.metrics import precision_score, recall_score, f1_score, confusion_matrix\n",
        "rf = RandomForestClassifier(n_estimators = 15,random_state=42)\n",
        "\n",
        "\n",
        "rf.fit(X_oversample_train, y_oversample_train)\n",
        "\n",
        "y_pred = rf.predict(original_Xtest)\n",
        "\n",
        "\n",
        "precision = precision_score(original_ytest, y_pred)\n",
        "recall = recall_score(original_ytest, y_pred)\n",
        "f1 = f1_score(original_ytest, y_pred)"
      ],
      "metadata": {
        "id": "IeH8LT3K1-5R"
      },
      "execution_count": 32,
      "outputs": []
    },
    {
      "cell_type": "code",
      "source": [
        "#Random Forest Classifier Confusion Matrix\n",
        "cm = confusion_matrix(original_ytest,y_pred) \n",
        "sns.heatmap(cm,annot=True,fmt='g',yticklabels=[\"Real Negative\",\"Real Positive\"],xticklabels=[\"Predicted Negative\", \"Predicted Positive\"])"
      ],
      "metadata": {
        "colab": {
          "base_uri": "https://localhost:8080/",
          "height": 282
        },
        "id": "wYDHSSoV4vBR",
        "outputId": "025adee4-db96-4566-f766-ce5c766669f6"
      },
      "execution_count": 33,
      "outputs": [
        {
          "output_type": "execute_result",
          "data": {
            "text/plain": [
              "<matplotlib.axes._subplots.AxesSubplot at 0x7faacd2ccc50>"
            ]
          },
          "metadata": {},
          "execution_count": 33
        },
        {
          "output_type": "display_data",
          "data": {
            "image/png": "[encoded data removed]",
            "text/plain": [
              "<Figure size 432x288 with 2 Axes>"
            ]
          },
          "metadata": {
            "needs_background": "light"
          }
        }
      ]
    },
    {
      "cell_type": "code",
      "source": [
        "print(\"Precision: \", round(precision*100,2),\"%\")\n",
        "print(\"Recall: \", round(recall*100,2),\"%\")\n",
        "print(\"F1: \", round(f1*100,2),\"%\")"
      ],
      "metadata": {
        "colab": {
          "base_uri": "https://localhost:8080/"
        },
        "id": "QZ9TDjS44vup",
        "outputId": "d89c35af-a72e-4728-8b58-1dd1c7e7b688"
      },
      "execution_count": 34,
      "outputs": [
        {
          "output_type": "stream",
          "name": "stdout",
          "text": [
            "Precision:  100.0 %\n",
            "Recall:  50.0 %\n",
            "F1:  66.67 %\n"
          ]
        }
      ]
    },
    {
      "cell_type": "markdown",
      "source": [
        "## 3.2 Logistic Regression "
      ],
      "metadata": {
        "id": "dcCOUuPM_jID"
      }
    },
    {
      "cell_type": "code",
      "source": [
        "X_oversample_test, y_oversample_test = borderlineSMOTE.fit_resample(original_Xtest, original_ytest)"
      ],
      "metadata": {
        "id": "oBAkhq7jAKVp"
      },
      "execution_count": 36,
      "outputs": []
    },
    {
      "cell_type": "code",
      "source": [
        "# # Measuring the time of applying Logistic Regression on dataset\n",
        "# t0 = time.time()\n",
        "log_reg_sm = grid_log_reg.best_estimator_\n",
        "log_reg_sm.fit(X_oversample_train, y_oversample_train)\n",
        "# t1 = time.time()\n",
        "# print(\"Fitting oversample data took :{} sec\".format(t1 - t0))"
      ],
      "metadata": {
        "colab": {
          "base_uri": "https://localhost:8080/"
        },
        "id": "16gZYGbDAaf3",
        "outputId": "d56d09a8-3c3f-4bd0-cceb-888200b8f057"
      },
      "execution_count": 37,
      "outputs": [
        {
          "output_type": "execute_result",
          "data": {
            "text/plain": [
              "LogisticRegression(C=0.1)"
            ]
          },
          "metadata": {},
          "execution_count": 37
        }
      ]
    },
    {
      "cell_type": "code",
      "source": [
        "from sklearn.metrics import confusion_matrix\n",
        "\n",
        "y_pred_log_reg = log_reg_sm.predict(X_oversample_test)\n",
        "\n",
        "log_reg_cf = confusion_matrix(y_oversample_test, y_pred_log_reg)\n",
        "\n",
        "sns.heatmap(log_reg_cf, annot=True, cmap=plt.cm.copper)"
      ],
      "metadata": {
        "colab": {
          "base_uri": "https://localhost:8080/",
          "height": 282
        },
        "id": "jRsxSoRw_o35",
        "outputId": "d4767f76-04d8-4703-d055-c1ae727d1d89"
      },
      "execution_count": 38,
      "outputs": [
        {
          "output_type": "execute_result",
          "data": {
            "text/plain": [
              "<matplotlib.axes._subplots.AxesSubplot at 0x7faacb7ab650>"
            ]
          },
          "metadata": {},
          "execution_count": 38
        },
        {
          "output_type": "display_data",
          "data": {
            "image/png": "[encoded data removed]",
            "text/plain": [
              "<Figure size 432x288 with 2 Axes>"
            ]
          },
          "metadata": {
            "needs_background": "light"
          }
        }
      ]
    },
    {
      "cell_type": "code",
      "source": [
        "from sklearn.metrics import classification_report\n",
        "\n",
        "print('Logistic Regression:')\n",
        "print(classification_report(y_oversample_test, y_pred_log_reg))"
      ],
      "metadata": {
        "colab": {
          "base_uri": "https://localhost:8080/"
        },
        "id": "hfmvTybrA5tg",
        "outputId": "2e199850-bbce-4b29-ecb5-4b62047a16d2"
      },
      "execution_count": 39,
      "outputs": [
        {
          "output_type": "stream",
          "name": "stdout",
          "text": [
            "Logistic Regression:\n",
            "              precision    recall  f1-score   support\n",
            "\n",
            "           0       0.92      1.00      0.96     56863\n",
            "           1       1.00      0.92      0.95     56863\n",
            "\n",
            "    accuracy                           0.96    113726\n",
            "   macro avg       0.96      0.96      0.96    113726\n",
            "weighted avg       0.96      0.96      0.96    113726\n",
            "\n"
          ]
        }
      ]
    },
    {
      "cell_type": "code",
      "source": [
        "# Testing on original dataset\n",
        "# Logistic Regression with Under-Sampling\n",
        "y_pred = log_reg.predict(X)\n",
        "original_score = accuracy_score(y, y_pred)"
      ],
      "metadata": {
        "id": "dI1hiEpEA6HM"
      },
      "execution_count": 40,
      "outputs": []
    },
    {
      "cell_type": "code",
      "source": [
        "y_pred_sm = log_reg.predict(X_oversample_test)\n",
        "oversample_score = accuracy_score(y_oversample_test, y_pred_sm)"
      ],
      "metadata": {
        "id": "kdNglWLTCO-N"
      },
      "execution_count": 41,
      "outputs": []
    },
    {
      "cell_type": "code",
      "source": [
        "d = {'Technique': ['Original dataset', 'Oversampling (SMOTE)'], 'Score': [original_score, oversample_score]}\n",
        "final_df = pd.DataFrame(data=d)\n",
        "\n",
        "# Move column\n",
        "score = final_df['Score']\n",
        "final_df.drop('Score', axis=1, inplace=True)\n",
        "final_df.insert(1, 'Score', score)\n",
        "\n",
        "# Note how high is accuracy score it can be misleading! \n",
        "final_df"
      ],
      "metadata": {
        "colab": {
          "base_uri": "https://localhost:8080/",
          "height": 112
        },
        "id": "j_eB5yi1CiA7",
        "outputId": "8dd87845-ba4b-44b7-fec8-04ac4346b5c8"
      },
      "execution_count": 42,
      "outputs": [
        {
          "output_type": "execute_result",
          "data": {
            "text/html": [
              "\n",
              "  <div id=\"df-9eac24cc-3742-4cf6-92d8-a39288efe609\">\n",
              "    <div class=\"colab-df-container\">\n",
              "      <div>\n",
              "<style scoped>\n",
              "    .dataframe tbody tr th:only-of-type {\n",
              "        vertical-align: middle;\n",
              "    }\n",
              "\n",
              "    .dataframe tbody tr th {\n",
              "        vertical-align: top;\n",
              "    }\n",
              "\n",
              "    .dataframe thead th {\n",
              "        text-align: right;\n",
              "    }\n",
              "</style>\n",
              "<table border=\"1\" class=\"dataframe\">\n",
              "  <thead>\n",
              "    <tr style=\"text-align: right;\">\n",
              "      <th></th>\n",
              "      <th>Technique</th>\n",
              "      <th>Score</th>\n",
              "    </tr>\n",
              "  </thead>\n",
              "  <tbody>\n",
              "    <tr>\n",
              "      <th>0</th>\n",
              "      <td>Original dataset</td>\n",
              "      <td>0.990927</td>\n",
              "    </tr>\n",
              "    <tr>\n",
              "      <th>1</th>\n",
              "      <td>Oversampling (SMOTE)</td>\n",
              "      <td>0.955507</td>\n",
              "    </tr>\n",
              "  </tbody>\n",
              "</table>\n",
              "</div>\n",
              "      <button class=\"colab-df-convert\" onclick=\"convertToInteractive('df-9eac24cc-3742-4cf6-92d8-a39288efe609')\"\n",
              "              title=\"Convert this dataframe to an interactive table.\"\n",
              "              style=\"display:none;\">\n",
              "        \n",
              "  <svg xmlns=\"http://www.w3.org/2000/svg\" height=\"24px\"viewBox=\"0 0 24 24\"\n",
              "       width=\"24px\">\n",
              "    <path d=\"M0 0h24v24H0V0z\" fill=\"none\"/>\n",
              "    <path d=\"M18.56 5.44l.94 2.06.94-2.06 2.06-.94-2.06-.94-.94-2.06-.94 2.06-2.06.94zm-11 1L8.5 8.5l.94-2.06 2.06-.94-2.06-.94L8.5 2.5l-.94 2.06-2.06.94zm10 10l.94 2.06.94-2.06 2.06-.94-2.06-.94-.94-2.06-.94 2.06-2.06.94z\"/><path d=\"M17.41 7.96l-1.37-1.37c-.4-.4-.92-.59-1.43-.59-.52 0-1.04.2-1.43.59L10.3 9.45l-7.72 7.72c-.78.78-.78 2.05 0 2.83L4 21.41c.39.39.9.59 1.41.59.51 0 1.02-.2 1.41-.59l7.78-7.78 2.81-2.81c.8-.78.8-2.07 0-2.86zM5.41 20L4 18.59l7.72-7.72 1.47 1.35L5.41 20z\"/>\n",
              "  </svg>\n",
              "      </button>\n",
              "      \n",
              "  <style>\n",
              "    .colab-df-container {\n",
              "      display:flex;\n",
              "      flex-wrap:wrap;\n",
              "      gap: 12px;\n",
              "    }\n",
              "\n",
              "    .colab-df-convert {\n",
              "      background-color: #E8F0FE;\n",
              "      border: none;\n",
              "      border-radius: 50%;\n",
              "      cursor: pointer;\n",
              "      display: none;\n",
              "      fill: #1967D2;\n",
              "      height: 32px;\n",
              "      padding: 0 0 0 0;\n",
              "      width: 32px;\n",
              "    }\n",
              "\n",
              "    .colab-df-convert:hover {\n",
              "      background-color: #E2EBFA;\n",
              "      box-shadow: 0px 1px 2px rgba(60, 64, 67, 0.3), 0px 1px 3px 1px rgba(60, 64, 67, 0.15);\n",
              "      fill: #174EA6;\n",
              "    }\n",
              "\n",
              "    [theme=dark] .colab-df-convert {\n",
              "      background-color: #3B4455;\n",
              "      fill: #D2E3FC;\n",
              "    }\n",
              "\n",
              "    [theme=dark] .colab-df-convert:hover {\n",
              "      background-color: #434B5C;\n",
              "      box-shadow: 0px 1px 3px 1px rgba(0, 0, 0, 0.15);\n",
              "      filter: drop-shadow(0px 1px 2px rgba(0, 0, 0, 0.3));\n",
              "      fill: #FFFFFF;\n",
              "    }\n",
              "  </style>\n",
              "\n",
              "      <script>\n",
              "        const buttonEl =\n",
              "          document.querySelector('#df-9eac24cc-3742-4cf6-92d8-a39288efe609 button.colab-df-convert');\n",
              "        buttonEl.style.display =\n",
              "          google.colab.kernel.accessAllowed ? 'block' : 'none';\n",
              "\n",
              "        async function convertToInteractive(key) {\n",
              "          const element = document.querySelector('#df-9eac24cc-3742-4cf6-92d8-a39288efe609');\n",
              "          const dataTable =\n",
              "            await google.colab.kernel.invokeFunction('convertToInteractive',\n",
              "                                                     [key], {});\n",
              "          if (!dataTable) return;\n",
              "\n",
              "          const docLinkHtml = 'Like what you see? Visit the ' +\n",
              "            '<a target=\"_blank\" href=https://colab.research.google.com/notebooks/data_table.ipynb>data table notebook</a>'\n",
              "            + ' to learn more about interactive tables.';\n",
              "          element.innerHTML = '';\n",
              "          dataTable['output_type'] = 'display_data';\n",
              "          await google.colab.output.renderOutput(dataTable, element);\n",
              "          const docLink = document.createElement('div');\n",
              "          docLink.innerHTML = docLinkHtml;\n",
              "          element.appendChild(docLink);\n",
              "        }\n",
              "      </script>\n",
              "    </div>\n",
              "  </div>\n",
              "  "
            ],
            "text/plain": [
              "              Technique     Score\n",
              "0      Original dataset  0.990927\n",
              "1  Oversampling (SMOTE)  0.955507"
            ]
          },
          "metadata": {},
          "execution_count": 42
        }
      ]
    }
  ]
}